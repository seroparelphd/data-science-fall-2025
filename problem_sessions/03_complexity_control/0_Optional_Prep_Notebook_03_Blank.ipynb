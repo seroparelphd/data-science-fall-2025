{
 "cells": [
  {
   "cell_type": "markdown",
   "id": "f88df4ba",
   "metadata": {},
   "source": [
    "# Prep Notebook 5\n",
    "\n",
    "## Building a Final Vehicle Sales Model\n",
    "\n",
    "This optional notebook has a few exercises that can serve as a primer for what to expect in the `Problem Session 5` notebook."
   ]
  },
  {
   "cell_type": "markdown",
   "id": "68e835e8",
   "metadata": {},
   "source": [
    "#### 1. Load in `carseats.csv`\n",
    "\n",
    "Load in `carseats.csv` using `pandas`."
   ]
  },
  {
   "cell_type": "code",
   "execution_count": null,
   "id": "ffe5b2a5",
   "metadata": {},
   "outputs": [],
   "source": [
    "## code here\n"
   ]
  },
  {
   "cell_type": "code",
   "execution_count": null,
   "id": "e14eb6ec",
   "metadata": {},
   "outputs": [],
   "source": [
    "## code here\n"
   ]
  },
  {
   "cell_type": "code",
   "execution_count": null,
   "id": "e31adf5c",
   "metadata": {},
   "outputs": [],
   "source": [
    "## code here\n"
   ]
  },
  {
   "cell_type": "markdown",
   "id": "b0dae0ff",
   "metadata": {},
   "source": [
    "#### 2. Train test split\n",
    "\n",
    "Make a train test split for `carseats`."
   ]
  },
  {
   "cell_type": "code",
   "execution_count": null,
   "id": "5d356617",
   "metadata": {},
   "outputs": [],
   "source": [
    "## code here\n"
   ]
  },
  {
   "cell_type": "code",
   "execution_count": null,
   "id": "8508aeeb",
   "metadata": {},
   "outputs": [],
   "source": [
    "## code here\n"
   ]
  },
  {
   "cell_type": "code",
   "execution_count": null,
   "id": "43e30889",
   "metadata": {},
   "outputs": [],
   "source": [
    "## code here\n"
   ]
  },
  {
   "cell_type": "markdown",
   "id": "41d49418",
   "metadata": {},
   "source": [
    "#### 3. EDA\n",
    "\n",
    "##### a.\n",
    "\n",
    "Look at the first five observations of the training set."
   ]
  },
  {
   "cell_type": "code",
   "execution_count": null,
   "id": "ff8b24a4",
   "metadata": {},
   "outputs": [],
   "source": [
    "## code here\n"
   ]
  },
  {
   "cell_type": "code",
   "execution_count": null,
   "id": "7d9a67cb",
   "metadata": {},
   "outputs": [],
   "source": [
    "## code here\n"
   ]
  },
  {
   "cell_type": "code",
   "execution_count": null,
   "id": "3155d1e1",
   "metadata": {},
   "outputs": [],
   "source": [
    "## code here\n"
   ]
  },
  {
   "cell_type": "markdown",
   "id": "aa0106dc",
   "metadata": {},
   "source": [
    "##### b.\n",
    "\n",
    "Use `pairplot` to examine the potential for a linear relationship between `Sales` and:\n",
    "- `Advertising`\n",
    "- `Income` and \n",
    "- `CompPrice`."
   ]
  },
  {
   "cell_type": "code",
   "execution_count": null,
   "id": "f2fff133",
   "metadata": {},
   "outputs": [],
   "source": [
    "## code here\n"
   ]
  },
  {
   "cell_type": "code",
   "execution_count": null,
   "id": "b22ef779",
   "metadata": {},
   "outputs": [],
   "source": [
    "## code here\n"
   ]
  },
  {
   "cell_type": "code",
   "execution_count": null,
   "id": "a5458e9a",
   "metadata": {},
   "outputs": [],
   "source": [
    "## code here\n"
   ]
  },
  {
   "cell_type": "markdown",
   "id": "4534dd6f",
   "metadata": {},
   "source": [
    "##### c.\n",
    "\n",
    "Look at the correlations for the variables you considered in the previous problem."
   ]
  },
  {
   "cell_type": "code",
   "execution_count": null,
   "id": "80d2e422",
   "metadata": {},
   "outputs": [],
   "source": [
    "## code here\n"
   ]
  },
  {
   "cell_type": "code",
   "execution_count": null,
   "id": "af923609",
   "metadata": {},
   "outputs": [],
   "source": [
    "## code here\n"
   ]
  },
  {
   "cell_type": "markdown",
   "id": "cbda1744",
   "metadata": {},
   "source": [
    "##### d.\n",
    "\n",
    "Use `seaborn`'s `lmplot`, <a href=\"https://seaborn.pydata.org/generated/seaborn.lmplot.html\">https://seaborn.pydata.org/generated/seaborn.lmplot.html</a>, to investigate a potential linear relationship between `Sales` and `Price`."
   ]
  },
  {
   "cell_type": "code",
   "execution_count": null,
   "id": "600b9e8f",
   "metadata": {},
   "outputs": [],
   "source": [
    "## code here\n"
   ]
  },
  {
   "cell_type": "code",
   "execution_count": null,
   "id": "598721c1",
   "metadata": {},
   "outputs": [],
   "source": [
    "## code here\n"
   ]
  },
  {
   "cell_type": "markdown",
   "id": "25428b33",
   "metadata": {},
   "source": [
    "##### e.\n",
    "\n",
    "Use the `hue` argument of `lmplot` to investigate potential interactions between `Age` and `ShelveLoc`."
   ]
  },
  {
   "cell_type": "code",
   "execution_count": null,
   "id": "b8454fef",
   "metadata": {},
   "outputs": [],
   "source": [
    "## code here\n"
   ]
  },
  {
   "cell_type": "code",
   "execution_count": null,
   "id": "ed445dd1",
   "metadata": {},
   "outputs": [],
   "source": [
    "## code here\n"
   ]
  },
  {
   "cell_type": "markdown",
   "id": "599dc6a1",
   "metadata": {},
   "source": [
    "#### 4. Preparing data\n",
    "\n",
    "Make appropriate one-hot encoded variables for `ShelveLoc`."
   ]
  },
  {
   "cell_type": "code",
   "execution_count": null,
   "id": "d1b15ca7",
   "metadata": {},
   "outputs": [],
   "source": [
    "## code here\n"
   ]
  },
  {
   "cell_type": "code",
   "execution_count": null,
   "id": "b824230a",
   "metadata": {},
   "outputs": [],
   "source": [
    "## code here\n"
   ]
  },
  {
   "cell_type": "code",
   "execution_count": null,
   "id": "75883f29",
   "metadata": {},
   "outputs": [],
   "source": [
    "## code here\n"
   ]
  },
  {
   "cell_type": "markdown",
   "id": "4e999c12",
   "metadata": {},
   "source": [
    "#### 5. Fitting a model\n",
    "\n",
    "##### a.\n",
    "\n",
    "Fit the following regression model using the training set.\n",
    "\n",
    "$$\n",
    "\\text{Sales} = \\beta_0 + \\beta_1 \\text{Price} + \\beta_2 \\left(\\text{Shelve Location = Medium}\\right) + \\beta_3\\left(\\text{Shelve Location = Good}\\right) + \\epsilon\n",
    "$$"
   ]
  },
  {
   "cell_type": "code",
   "execution_count": null,
   "id": "4438e946",
   "metadata": {},
   "outputs": [],
   "source": [
    "## code here\n"
   ]
  },
  {
   "cell_type": "code",
   "execution_count": null,
   "id": "fe0ecec9",
   "metadata": {},
   "outputs": [],
   "source": [
    "## code here\n"
   ]
  },
  {
   "cell_type": "code",
   "execution_count": null,
   "id": "9f1daea1",
   "metadata": {},
   "outputs": [],
   "source": [
    "## code here\n"
   ]
  },
  {
   "cell_type": "markdown",
   "id": "435e8a09",
   "metadata": {},
   "source": [
    "##### b.\n",
    "\n",
    "Look at the estimates $\\hat{\\beta_0}$, $\\hat{\\beta_1}$, $\\hat{\\beta_2}$ and $\\hat{\\beta_3}$."
   ]
  },
  {
   "cell_type": "code",
   "execution_count": null,
   "id": "367f64a1",
   "metadata": {},
   "outputs": [],
   "source": [
    "## code here\n"
   ]
  },
  {
   "cell_type": "code",
   "execution_count": null,
   "id": "7bba8cec",
   "metadata": {},
   "outputs": [],
   "source": [
    "## code here\n"
   ]
  },
  {
   "cell_type": "code",
   "execution_count": null,
   "id": "ebe4e7ba",
   "metadata": {},
   "outputs": [],
   "source": [
    "## code here\n"
   ]
  },
  {
   "cell_type": "markdown",
   "id": "8c7663fd",
   "metadata": {},
   "source": [
    "##### c.\n",
    "\n",
    "Get the training root mean squared error for this model."
   ]
  },
  {
   "cell_type": "code",
   "execution_count": null,
   "id": "c32034d8",
   "metadata": {},
   "outputs": [],
   "source": [
    "## code here\n"
   ]
  },
  {
   "cell_type": "code",
   "execution_count": null,
   "id": "83f610de",
   "metadata": {},
   "outputs": [],
   "source": [
    "## code here\n"
   ]
  },
  {
   "cell_type": "code",
   "execution_count": null,
   "id": "4bc74ce1",
   "metadata": {},
   "outputs": [],
   "source": [
    "## code here\n"
   ]
  },
  {
   "cell_type": "markdown",
   "id": "4fd68f19",
   "metadata": {},
   "source": [
    "--------------------------\n",
    "\n",
    "This notebook was written for the Erd&#337;s Institute C&#337;de Data Science Boot Camp by Matthew Osborne, Ph. D., 2023.\n",
    "\n",
    "Any potential redistributors must seek and receive permission from Matthew Tyler Osborne, Ph.D. prior to redistribution. Redistribution of the material contained in this repository is conditional on acknowledgement of Matthew Tyler Osborne, Ph.D.'s original authorship and sponsorship of the Erdős Institute as subject to the license (see License.md)"
   ]
  },
  {
   "cell_type": "code",
   "execution_count": null,
   "id": "f6a3aba3",
   "metadata": {},
   "outputs": [],
   "source": []
  }
 ],
 "metadata": {
  "kernelspec": {
   "display_name": "Python 3 (ipykernel)",
   "language": "python",
   "name": "python3"
  },
  "language_info": {
   "codemirror_mode": {
    "name": "ipython",
    "version": 3
   },
   "file_extension": ".py",
   "mimetype": "text/x-python",
   "name": "python",
   "nbconvert_exporter": "python",
   "pygments_lexer": "ipython3",
   "version": "3.9.16"
  }
 },
 "nbformat": 4,
 "nbformat_minor": 5
}
