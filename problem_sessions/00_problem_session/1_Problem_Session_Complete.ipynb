{
 "cells": [
  {
   "cell_type": "markdown",
   "id": "0",
   "metadata": {},
   "source": [
    "# Problem Session 1\n",
    "\n",
    "This notebook will be your first problem solving session notebook. In the first problem solving session we will check that your computer is set up with python and you are able to access `jupyter notebook`s. Once that is done for your group you should work through the problems below. These problems touch on basic:\n",
    "- Python,\n",
    "- Coding,\n",
    "- `numpy`,\n",
    "- `pandas`, and\n",
    "- `matplotlib`.\n",
    "\n",
    "If your group runs into trouble, try to find a TA to assist you or answer your question(s).\n",
    "\n",
    "Have fun!"
   ]
  },
  {
   "cell_type": "markdown",
   "id": "1",
   "metadata": {},
   "source": [
    "##### 1. a) \n",
    "\n",
    "Import `pandas`, `numpy` and `matplotlib`. Then using `.__version__` check the version each member of your group has, see if everyone has the same version or if people have different versions."
   ]
  },
  {
   "cell_type": "code",
   "execution_count": 1,
   "id": "2",
   "metadata": {
    "metadata": {}
   },
   "outputs": [],
   "source": [
    "## Sample Solution\n",
    "import pandas as pd\n",
    "import numpy as np\n",
    "import matplotlib as mpl\n",
    "import matplotlib.pyplot as plt"
   ]
  },
  {
   "cell_type": "code",
   "execution_count": 2,
   "id": "3",
   "metadata": {
    "metadata": {}
   },
   "outputs": [
    {
     "name": "stdout",
     "output_type": "stream",
     "text": [
      "pandas 2.2.3\n",
      "numpy 2.2.5\n",
      "matplotlib 3.10.1\n"
     ]
    }
   ],
   "source": [
    "## Sample Solution\n",
    "print(\"pandas\", pd.__version__)\n",
    "print(\"numpy\", np.__version__)\n",
    "print(\"matplotlib\", mpl.__version__)"
   ]
  },
  {
   "cell_type": "markdown",
   "id": "4",
   "metadata": {},
   "source": [
    "##### 1. b)\n",
    "\n",
    "Suppose two members of your group try and run the exact same chunk of python code. Could you think of a python package-related reason why that code might work for one group member but not the other?  Discuss briefly with your group."
   ]
  },
  {
   "cell_type": "markdown",
   "id": "5",
   "metadata": {},
   "source": [
    "##### Sample Solution\n",
    "\n",
    "If they had different versions of a python package this could explain why the code works for one person but not the other."
   ]
  },
  {
   "cell_type": "markdown",
   "id": "6",
   "metadata": {},
   "source": [
    "##### 2. Is divisble by\n",
    "\n",
    "In this problem you will work to write a function that checks if a given positive integer is divisible by another given positive integer. Work through the parts below.\n",
    "\n",
    "##### a)\n",
    "\n",
    "We say that one positive integer, $a$, is divisble by another positive integer, $b$, if there is no remainder after dividing $a$ by $b$. Play around with `%` and `//` as python operations to see which one will be most useful for your function."
   ]
  },
  {
   "cell_type": "code",
   "execution_count": 3,
   "id": "7",
   "metadata": {
    "metadata": {}
   },
   "outputs": [
    {
     "name": "stdout",
     "output_type": "stream",
     "text": [
      "2\n",
      "2\n"
     ]
    }
   ],
   "source": [
    "## sample solution\n",
    "print(4 // 2)\n",
    "print(5 // 2)"
   ]
  },
  {
   "cell_type": "code",
   "execution_count": 4,
   "id": "8",
   "metadata": {
    "metadata": {}
   },
   "outputs": [
    {
     "name": "stdout",
     "output_type": "stream",
     "text": [
      "0\n",
      "1\n"
     ]
    }
   ],
   "source": [
    "## sample solution\n",
    "print(4 % 2)\n",
    "print(5 % 2)"
   ]
  },
  {
   "cell_type": "markdown",
   "id": "9",
   "metadata": {},
   "source": [
    "##### b)\n",
    "\n",
    "Write a function that takes in two positive integers and determines if the first is divisible by the second. For the purposes of this question you can assume that the inputs will always be positive integers."
   ]
  },
  {
   "cell_type": "code",
   "execution_count": 5,
   "id": "10",
   "metadata": {
    "metadata": {}
   },
   "outputs": [],
   "source": [
    "## sample solution\n",
    "def is_divisible(a, b):\n",
    "    \"\"\"\n",
    "    Returns true if a is divisible by b, and false otherwise.\n",
    "    \"\"\"\n",
    "    if not isinstance(a, int) or not isinstance(b, int) or a <= 0 or b <= 0:\n",
    "        raise TypeError(\"Both arguments must be positive integers\")\n",
    "    return a % b == 0\n",
    "\n",
    "\n",
    "# Many beginners would code this as:\n",
    "#\n",
    "# def is_divisible(a,b):\n",
    "#     if a%b == 0:\n",
    "#         return True\n",
    "#     else:\n",
    "#         return False\n",
    "#\n",
    "# However, (a%b == 0) is *already* a Boolean.\n",
    "# So it is cleaner to just return a%b == 0.\n",
    "\n",
    "\n",
    "assert is_divisible(9, 3)\n",
    "assert is_divisible(12, 4)\n",
    "assert not is_divisible(3, 9)\n",
    "assert not is_divisible(5, 2)"
   ]
  },
  {
   "cell_type": "code",
   "execution_count": 6,
   "id": "11",
   "metadata": {
    "metadata": {}
   },
   "outputs": [
    {
     "name": "stdout",
     "output_type": "stream",
     "text": [
      "True\n",
      "False\n"
     ]
    }
   ],
   "source": [
    "## sample solution\n",
    "print(is_divisible(4, 2))\n",
    "print(is_divisible(5, 2))"
   ]
  },
  {
   "cell_type": "markdown",
   "id": "12",
   "metadata": {},
   "source": [
    "##### c)\n",
    "\n",
    "How would your function have needed to change if you were not able to assume that the inputs would always be positive integers?  Discuss briefly with your group."
   ]
  },
  {
   "cell_type": "markdown",
   "id": "13",
   "metadata": {},
   "source": [
    "##### Sample Solution\n",
    "\n",
    "I included these checks in my implementation above."
   ]
  },
  {
   "cell_type": "markdown",
   "id": "14",
   "metadata": {},
   "source": [
    "##### 3. Palindrome checker\n",
    "\n",
    "A palindrome is a word or sentence that has the same sequence of letters regardless of whether the text is written correctly or in reverse. For example \"taco cat\" is a palindrome.\n",
    "\n",
    "Work through the following problems to build a palindrome detection function.\n",
    "\n",
    "<i>Note: We will assume that the text we want to check is free of punctuation</i>\n",
    "\n",
    "##### a)\n",
    "\n",
    "In this problem we are only considering string palindromes. Write a function that takes in an argument and checks if it is a string. Test your function using the variables defined in the code chunk below."
   ]
  },
  {
   "cell_type": "code",
   "execution_count": 7,
   "id": "15",
   "metadata": {
    "metadata": {}
   },
   "outputs": [],
   "source": [
    "a = 200903\n",
    "b = \"apple\"\n",
    "c = [1, 2, 3, \"1\", \"2\", \"3\"]\n",
    "d = False"
   ]
  },
  {
   "cell_type": "code",
   "execution_count": 8,
   "id": "16",
   "metadata": {
    "metadata": {}
   },
   "outputs": [],
   "source": [
    "## Sample Solution\n",
    "def is_string(x):\n",
    "    return isinstance(x, str)\n",
    "\n",
    "\n",
    "assert not is_string(a)\n",
    "assert is_string(b)\n",
    "assert not is_string(c)\n",
    "assert not is_string(d)"
   ]
  },
  {
   "cell_type": "code",
   "execution_count": 9,
   "id": "17",
   "metadata": {
    "metadata": {}
   },
   "outputs": [
    {
     "data": {
      "text/plain": [
       "False"
      ]
     },
     "execution_count": 9,
     "metadata": {},
     "output_type": "execute_result"
    }
   ],
   "source": [
    "## Sample Solution\n",
    "is_string(a)"
   ]
  },
  {
   "cell_type": "code",
   "execution_count": 10,
   "id": "18",
   "metadata": {
    "metadata": {}
   },
   "outputs": [
    {
     "data": {
      "text/plain": [
       "True"
      ]
     },
     "execution_count": 10,
     "metadata": {},
     "output_type": "execute_result"
    }
   ],
   "source": [
    "## Sample Solution\n",
    "is_string(b)"
   ]
  },
  {
   "cell_type": "code",
   "execution_count": 11,
   "id": "19",
   "metadata": {
    "metadata": {}
   },
   "outputs": [
    {
     "data": {
      "text/plain": [
       "False"
      ]
     },
     "execution_count": 11,
     "metadata": {},
     "output_type": "execute_result"
    }
   ],
   "source": [
    "## Sample Solution\n",
    "is_string(c)"
   ]
  },
  {
   "cell_type": "code",
   "execution_count": 12,
   "id": "20",
   "metadata": {
    "metadata": {}
   },
   "outputs": [
    {
     "data": {
      "text/plain": [
       "False"
      ]
     },
     "execution_count": 12,
     "metadata": {},
     "output_type": "execute_result"
    }
   ],
   "source": [
    "## Sample Solution\n",
    "is_string(d)"
   ]
  },
  {
   "cell_type": "markdown",
   "id": "21",
   "metadata": {},
   "source": [
    "##### b)\n",
    "\n",
    "When we are checking if a piece of text is a palindrome we ignore spaces. Try using the `.replace()` string function to replace the spaces in the strings below with the empty string."
   ]
  },
  {
   "cell_type": "code",
   "execution_count": 13,
   "id": "22",
   "metadata": {
    "metadata": {}
   },
   "outputs": [],
   "source": [
    "a = \"Spongebob Squarepants\"\n",
    "b = \"my name is James\"\n",
    "c = \"Happy Birtday\""
   ]
  },
  {
   "cell_type": "code",
   "execution_count": 14,
   "id": "23",
   "metadata": {
    "metadata": {}
   },
   "outputs": [
    {
     "data": {
      "text/plain": [
       "'SpongebobSquarepants'"
      ]
     },
     "execution_count": 14,
     "metadata": {},
     "output_type": "execute_result"
    }
   ],
   "source": [
    "## sample solution\n",
    "a.replace(\" \", \"\")"
   ]
  },
  {
   "cell_type": "markdown",
   "id": "24",
   "metadata": {},
   "source": [
    "##### c)\n",
    "\n",
    "We should also ignore the case of the letters. Try to make all of the letters in the strings stored in `a`, `b` and `c` from part b) the same case using `.lower()` or `.upper()`."
   ]
  },
  {
   "cell_type": "code",
   "execution_count": 15,
   "id": "25",
   "metadata": {
    "metadata": {}
   },
   "outputs": [
    {
     "data": {
      "text/plain": [
       "'spongebob squarepants'"
      ]
     },
     "execution_count": 15,
     "metadata": {},
     "output_type": "execute_result"
    }
   ],
   "source": [
    "## sample solution\n",
    "a.lower()"
   ]
  },
  {
   "cell_type": "markdown",
   "id": "26",
   "metadata": {},
   "source": [
    "##### d)\n",
    "\n",
    "Try and put parts a) - c) together and write a function that returns:\n",
    "- `True` if the input is a string and a palindrome, \n",
    "- `False` if the input is a string and not a palindrome, and\n",
    "- `None` if the input is not a string.\n",
    "\n",
    "Test your function on the strings defined below."
   ]
  },
  {
   "cell_type": "code",
   "execution_count": 16,
   "id": "27",
   "metadata": {
    "metadata": {}
   },
   "outputs": [],
   "source": [
    "a = \"kayak\"\n",
    "b = \"Patrick Star\"\n",
    "c = \"A Man a Plan a Canal Panama\"\n",
    "d = 9909028"
   ]
  },
  {
   "cell_type": "code",
   "execution_count": 17,
   "id": "28",
   "metadata": {
    "metadata": {}
   },
   "outputs": [],
   "source": [
    "# sample solution\n",
    "# I am using a design pattern here called \"early returns\".\n",
    "def is_palindrome(x):\n",
    "    \"\"\"\n",
    "    Returns True if the input is a string and a palindrome,\n",
    "    Returns False if the input is a string and not a palindrome\n",
    "    Returns None if the input is not a string.\n",
    "    \"\"\"\n",
    "    if not is_string(x):\n",
    "        return None\n",
    "    clean_x = x.replace(\" \", \"\").lower()\n",
    "    return clean_x == clean_x[::-1]\n",
    "\n",
    "\n",
    "assert is_palindrome(a)\n",
    "assert not is_palindrome(b)\n",
    "assert is_palindrome(c)\n",
    "assert is_palindrome(d) is None"
   ]
  },
  {
   "cell_type": "code",
   "execution_count": 18,
   "id": "29",
   "metadata": {
    "metadata": {}
   },
   "outputs": [
    {
     "data": {
      "text/plain": [
       "True"
      ]
     },
     "execution_count": 18,
     "metadata": {},
     "output_type": "execute_result"
    }
   ],
   "source": [
    "## sample solution\n",
    "is_palindrome(a)"
   ]
  },
  {
   "cell_type": "code",
   "execution_count": 19,
   "id": "30",
   "metadata": {
    "metadata": {}
   },
   "outputs": [
    {
     "data": {
      "text/plain": [
       "False"
      ]
     },
     "execution_count": 19,
     "metadata": {},
     "output_type": "execute_result"
    }
   ],
   "source": [
    "## sample solution\n",
    "is_palindrome(b)"
   ]
  },
  {
   "cell_type": "code",
   "execution_count": 20,
   "id": "31",
   "metadata": {
    "metadata": {}
   },
   "outputs": [
    {
     "data": {
      "text/plain": [
       "True"
      ]
     },
     "execution_count": 20,
     "metadata": {},
     "output_type": "execute_result"
    }
   ],
   "source": [
    "## sample solution\n",
    "is_palindrome(c)"
   ]
  },
  {
   "cell_type": "code",
   "execution_count": 21,
   "id": "32",
   "metadata": {
    "metadata": {}
   },
   "outputs": [],
   "source": [
    "## sample solution\n",
    "is_palindrome(d)"
   ]
  },
  {
   "cell_type": "markdown",
   "id": "33",
   "metadata": {},
   "source": [
    "##### 4. A `numpy` refresher"
   ]
  },
  {
   "cell_type": "markdown",
   "id": "34",
   "metadata": {},
   "source": [
    "##### a)\n",
    "\n",
    "Use [`np.arange`](https://numpy.org/doc/2.1/reference/generated/numpy.arange.html) to create an array called `x_values` which is of the form `[1, 1.1, 1.2, 1.3, ..., 4.9, 5]`"
   ]
  },
  {
   "cell_type": "code",
   "execution_count": 39,
   "id": "35",
   "metadata": {},
   "outputs": [],
   "source": [
    "# Use np.linspace to make an array of\n",
    "x_values = np.arange(start=1, stop=5.1, step=0.1)"
   ]
  },
  {
   "cell_type": "code",
   "execution_count": 40,
   "id": "36",
   "metadata": {},
   "outputs": [
    {
     "data": {
      "text/plain": [
       "array([1. , 1.1, 1.2, 1.3, 1.4, 1.5, 1.6, 1.7, 1.8, 1.9, 2. , 2.1, 2.2,\n",
       "       2.3, 2.4, 2.5, 2.6, 2.7, 2.8, 2.9, 3. , 3.1, 3.2, 3.3, 3.4, 3.5,\n",
       "       3.6, 3.7, 3.8, 3.9, 4. , 4.1, 4.2, 4.3, 4.4, 4.5, 4.6, 4.7, 4.8,\n",
       "       4.9, 5. ])"
      ]
     },
     "execution_count": 40,
     "metadata": {},
     "output_type": "execute_result"
    }
   ],
   "source": [
    "x_values"
   ]
  },
  {
   "cell_type": "markdown",
   "id": "37",
   "metadata": {},
   "source": [
    "##### b)\n",
    "\n",
    "Use [`np.random.normal`](https://numpy.org/doc/stable/reference/random/generated/numpy.random.normal.html), [`np.random.uniform`](https://numpy.org/doc/stable/reference/random/generated/numpy.random.uniform.html) and either [`np.zeros`](https://numpy.org/doc/stable/reference/generated/numpy.zeros.html) or [`np.concatenate`](https://numpy.org/doc/stable/reference/generated/numpy.concatenate.html) to create an array $X$ with $100$ rows and $2$ columns.  The first column should be drawn from a normal distribution with mean $2$ and standard deviation $1$, while the second column should be drawn from a uniform distribution over $[1,3]$."
   ]
  },
  {
   "cell_type": "code",
   "execution_count": 24,
   "id": "38",
   "metadata": {},
   "outputs": [],
   "source": [
    "X = np.zeros((100, 2))\n",
    "X[:, 0] = np.random.normal(loc=2, scale=1, size=100)\n",
    "X[:, 1] = np.random.uniform(low=1, high=3, size=100)"
   ]
  },
  {
   "cell_type": "markdown",
   "id": "39",
   "metadata": {},
   "source": [
    "##### c)\n",
    "\n",
    "It is important to understand reshaping and indexing.\n",
    "\n",
    "For each of the following, try to work out what the result will look like using pencil/paper.  Then run the code to see if you are right.  Discuss with your team."
   ]
  },
  {
   "cell_type": "code",
   "execution_count": 25,
   "id": "40",
   "metadata": {},
   "outputs": [
    {
     "name": "stdout",
     "output_type": "stream",
     "text": [
      "[[ 1  2  3  4]\n",
      " [ 5  6  7  8]\n",
      " [ 9 10 11 12]]\n"
     ]
    }
   ],
   "source": [
    "A = np.array([[1, 2, 3, 4], [5, 6, 7, 8], [9, 10, 11, 12]])\n",
    "print(A)"
   ]
  },
  {
   "cell_type": "code",
   "execution_count": 26,
   "id": "41",
   "metadata": {},
   "outputs": [
    {
     "name": "stdout",
     "output_type": "stream",
     "text": [
      "[[ 1  2  3]\n",
      " [ 4  5  6]\n",
      " [ 7  8  9]\n",
      " [10 11 12]]\n"
     ]
    }
   ],
   "source": [
    "print(A.reshape(4, 3))"
   ]
  },
  {
   "cell_type": "code",
   "execution_count": 27,
   "id": "42",
   "metadata": {},
   "outputs": [
    {
     "name": "stdout",
     "output_type": "stream",
     "text": [
      "[[ 1  2]\n",
      " [ 3  4]\n",
      " [ 5  6]\n",
      " [ 7  8]\n",
      " [ 9 10]\n",
      " [11 12]]\n"
     ]
    }
   ],
   "source": [
    "print(A.reshape(-1, 2))"
   ]
  },
  {
   "cell_type": "code",
   "execution_count": 28,
   "id": "43",
   "metadata": {},
   "outputs": [
    {
     "name": "stdout",
     "output_type": "stream",
     "text": [
      "[[ 1  2  3  4  5  6  7  8  9 10 11 12]]\n"
     ]
    }
   ],
   "source": [
    "print(A.reshape(1, -1))"
   ]
  },
  {
   "cell_type": "code",
   "execution_count": 29,
   "id": "44",
   "metadata": {},
   "outputs": [
    {
     "name": "stdout",
     "output_type": "stream",
     "text": [
      "[ 1  2  3  4  5  6  7  8  9 10 11 12]\n"
     ]
    }
   ],
   "source": [
    "print(A.reshape(-1))"
   ]
  },
  {
   "cell_type": "code",
   "execution_count": 30,
   "id": "45",
   "metadata": {},
   "outputs": [
    {
     "name": "stdout",
     "output_type": "stream",
     "text": [
      "[ 2  6 10]\n"
     ]
    }
   ],
   "source": [
    "print(A[:, 1])"
   ]
  },
  {
   "cell_type": "code",
   "execution_count": 31,
   "id": "46",
   "metadata": {},
   "outputs": [
    {
     "name": "stdout",
     "output_type": "stream",
     "text": [
      "[5 6 7 8]\n"
     ]
    }
   ],
   "source": [
    "print(A[1, :])"
   ]
  },
  {
   "cell_type": "code",
   "execution_count": 32,
   "id": "47",
   "metadata": {},
   "outputs": [
    {
     "name": "stdout",
     "output_type": "stream",
     "text": [
      "[7 8]\n"
     ]
    }
   ],
   "source": [
    "print(A[1, [2, 3]])"
   ]
  },
  {
   "cell_type": "markdown",
   "id": "48",
   "metadata": {},
   "source": [
    "##### 5. Analyzing cookie recipes\n",
    "\n",
    "In this problem you will practice using `pandas` and `matplotlib`. Complete parts a) through d).\n",
    "\n",
    "##### a)\n",
    "\n",
    "Read in the `cookie_recipes.csv` file from the `data` folder."
   ]
  },
  {
   "cell_type": "code",
   "execution_count": 33,
   "id": "49",
   "metadata": {
    "metadata": {}
   },
   "outputs": [],
   "source": [
    "## sample solution\n",
    "df = pd.read_csv(\"../../data/cookie_recipes.csv\")"
   ]
  },
  {
   "cell_type": "markdown",
   "id": "50",
   "metadata": {},
   "source": [
    "##### b)\n",
    "\n",
    "Look at a random sample of 3 rows. What columns are there?"
   ]
  },
  {
   "cell_type": "code",
   "execution_count": 34,
   "id": "51",
   "metadata": {
    "metadata": {}
   },
   "outputs": [
    {
     "data": {
      "text/html": [
       "<div>\n",
       "<style scoped>\n",
       "    .dataframe tbody tr th:only-of-type {\n",
       "        vertical-align: middle;\n",
       "    }\n",
       "\n",
       "    .dataframe tbody tr th {\n",
       "        vertical-align: top;\n",
       "    }\n",
       "\n",
       "    .dataframe thead th {\n",
       "        text-align: right;\n",
       "    }\n",
       "</style>\n",
       "<table border=\"1\" class=\"dataframe\">\n",
       "  <thead>\n",
       "    <tr style=\"text-align: right;\">\n",
       "      <th></th>\n",
       "      <th>flour</th>\n",
       "      <th>butter</th>\n",
       "      <th>eggs</th>\n",
       "      <th>soda</th>\n",
       "      <th>chips</th>\n",
       "      <th>rating</th>\n",
       "    </tr>\n",
       "  </thead>\n",
       "  <tbody>\n",
       "    <tr>\n",
       "      <th>40</th>\n",
       "      <td>2.25</td>\n",
       "      <td>10</td>\n",
       "      <td>3</td>\n",
       "      <td>4</td>\n",
       "      <td>1.50</td>\n",
       "      <td>3.00</td>\n",
       "    </tr>\n",
       "    <tr>\n",
       "      <th>12</th>\n",
       "      <td>2.50</td>\n",
       "      <td>12</td>\n",
       "      <td>1</td>\n",
       "      <td>3</td>\n",
       "      <td>2.00</td>\n",
       "      <td>3.50</td>\n",
       "    </tr>\n",
       "    <tr>\n",
       "      <th>8</th>\n",
       "      <td>3.00</td>\n",
       "      <td>10</td>\n",
       "      <td>3</td>\n",
       "      <td>3</td>\n",
       "      <td>1.25</td>\n",
       "      <td>1.25</td>\n",
       "    </tr>\n",
       "  </tbody>\n",
       "</table>\n",
       "</div>"
      ],
      "text/plain": [
       "    flour  butter  eggs  soda  chips  rating\n",
       "40   2.25      10     3     4   1.50    3.00\n",
       "12   2.50      12     1     3   2.00    3.50\n",
       "8    3.00      10     3     3   1.25    1.25"
      ]
     },
     "execution_count": 34,
     "metadata": {},
     "output_type": "execute_result"
    }
   ],
   "source": [
    "## sample solution\n",
    "df.sample(3)"
   ]
  },
  {
   "cell_type": "markdown",
   "id": "52",
   "metadata": {},
   "source": [
    "##### c)\n",
    "\n",
    "What is the minimum number of eggs used over all recipes? the maximum?"
   ]
  },
  {
   "cell_type": "code",
   "execution_count": 35,
   "id": "53",
   "metadata": {
    "metadata": {}
   },
   "outputs": [
    {
     "data": {
      "text/plain": [
       "min    1.0\n",
       "max    3.0\n",
       "Name: eggs, dtype: float64"
      ]
     },
     "execution_count": 35,
     "metadata": {},
     "output_type": "execute_result"
    }
   ],
   "source": [
    "## sample solution\n",
    "df.eggs.describe()[[\"min\", \"max\"]]"
   ]
  },
  {
   "cell_type": "markdown",
   "id": "54",
   "metadata": {},
   "source": [
    "##### d)\n",
    "\n",
    "Plot the rating of the recipe against:\n",
    "- The amount of `butter` used,\n",
    "- The amount of `flour` users, and\n",
    "- The amount of chocolate `chips` used.\n",
    "\n",
    "Do any of these variables seem to be associated with the rating? If so how?"
   ]
  },
  {
   "cell_type": "code",
   "execution_count": 36,
   "id": "55",
   "metadata": {
    "metadata": {}
   },
   "outputs": [
    {
     "data": {
      "image/png": "[encoded data removed]",
      "text/plain": [
       "<Figure size 700x500 with 1 Axes>"
      ]
     },
     "metadata": {},
     "output_type": "display_data"
    },
    {
     "data": {
      "image/png": "[encoded data removed]",
      "text/plain": [
       "<Figure size 700x500 with 1 Axes>"
      ]
     },
     "metadata": {},
     "output_type": "display_data"
    },
    {
     "data": {
      "image/png": "[encoded data removed]",
      "text/plain": [
       "<Figure size 700x500 with 1 Axes>"
      ]
     },
     "metadata": {},
     "output_type": "display_data"
    }
   ],
   "source": [
    "## sample solution\n",
    "for c in [\"butter\", \"flour\", \"chips\"]:\n",
    "    plt.figure(figsize=(7, 5))\n",
    "\n",
    "    plt.scatter(df[c], df.rating)\n",
    "\n",
    "    plt.xlabel(c, fontsize=12)\n",
    "    plt.ylabel(\"Recipe Rating (out of 5)\", fontsize=12)\n",
    "\n",
    "    plt.show()"
   ]
  },
  {
   "cell_type": "markdown",
   "id": "56",
   "metadata": {},
   "source": [
    "##### 6. Getting started with classes\n",
    "\n",
    "In this problem you will practice creating and using classes.\n",
    "\n",
    "In this boot camp we will use the `sklearn` library extensively.  The API for estimators is:\n",
    "\n",
    "```python\n",
    "# import an supervised learning model class\n",
    "from sklearn.blah import estimator\n",
    "\n",
    "# instantiate the estimator with arguments and keyword arguments\n",
    "model = estimator(*args, **kwargs)\n",
    "\n",
    "# Fit the model to the training data (input_data, targets)\n",
    "model.fit(X_train,y_train)\n",
    "\n",
    "# Predict the results using new input_data\n",
    "model.predict(X_new)\n",
    "```\n",
    "\n",
    "We will write a class `MeanRegressor` which reproduces the functionality of sklearn's [Dummy Regressor](https://scikit-learn.org/1.5/modules/generated/sklearn.dummy.DummyRegressor.html) when using the \"mean\" strategy."
   ]
  },
  {
   "cell_type": "code",
   "execution_count": 37,
   "id": "57",
   "metadata": {},
   "outputs": [],
   "source": [
    "class MeanRegressor:\n",
    "    \"\"\"\n",
    "    A model which learns the mean of the training targets.\n",
    "    \"\"\"\n",
    "\n",
    "    def __init__(self):\n",
    "        self.training_mean = None\n",
    "\n",
    "    def fit(self, X_train, y_train):\n",
    "        \"\"\"\n",
    "        X_train: the input data as a numpy array. Not used at all in .fit\n",
    "        y_train: the training targets as a numpy array.\n",
    "        training_mean: the mean of the training targets.\n",
    "        \"\"\"\n",
    "        if not isinstance(X_train, np.ndarray):\n",
    "            raise TypeError(\"X_train must be a numpy.ndarray\")\n",
    "        if not isinstance(y_train, np.ndarray):\n",
    "            raise TypeError(\"y_train must be a numpy.ndarray\")\n",
    "        if X_train.shape[0] != y_train.shape[0]:\n",
    "            raise ValueError(\n",
    "                f\"X_train has {X_train.shape[0]} rows, but y_train has {y_train.shape[0]}\"\n",
    "            )\n",
    "        self.training_mean = y_train.mean()\n",
    "\n",
    "    def predict(self, X_new):\n",
    "        \"\"\"\n",
    "        X_new: the new input data.\n",
    "        preds:\n",
    "            The predicted outputs.\n",
    "            It is a one dimensional numpy array with as many entries as X_new has rows.\n",
    "            Each entry should be equal to the training mean.\n",
    "        \"\"\"\n",
    "        if self.training_mean is None:\n",
    "            raise Exception(\"You need to fit the model before prediction\")\n",
    "        preds = self.training_mean * np.ones(X_new.shape[0])\n",
    "        return preds"
   ]
  },
  {
   "cell_type": "code",
   "execution_count": 38,
   "id": "58",
   "metadata": {},
   "outputs": [],
   "source": [
    "mr = MeanRegressor()\n",
    "mr.fit(np.random.random(size=(5, 2)), np.array([1, 2, 3, 4, 5]))\n",
    "assert mr.predict(np.zeros((3, 2))).shape == (\n",
    "    3,\n",
    "), \"array of predictions is not the correct shape\"\n",
    "assert np.array_equal(\n",
    "    mr.predict(np.zeros((3, 2))), np.array([3, 3, 3])\n",
    "), \"Each entry of the predictions is not identical to the mean of the training targets\""
   ]
  },
  {
   "cell_type": "markdown",
   "id": "59",
   "metadata": {},
   "source": [
    "--------------------------\n",
    "\n",
    "This notebook was written for the Erd&#337;s Institute C&#337;de Data Science Boot Camp by Matthew Osborne, Ph. D., 2023.  Updated by Steven Gubkin 2024.\n",
    "\n",
    "Any potential redistributors must seek and receive permission from Matthew Tyler Osborne, Ph.D. prior to redistribution. Redistribution of the material contained in this repository is conditional on acknowledgement of Matthew Tyler Osborne, Ph.D.'s original authorship and sponsorship of the Erdős Institute as subject to the license (see License.md)"
   ]
  }
 ],
 "metadata": {
  "kernelspec": {
   "display_name": "erdos_summer_2025",
   "language": "python",
   "name": "python3"
  },
  "language_info": {
   "codemirror_mode": {
    "name": "ipython",
    "version": 3
   },
   "file_extension": ".py",
   "mimetype": "text/x-python",
   "name": "python",
   "nbconvert_exporter": "python",
   "pygments_lexer": "ipython3",
   "version": "3.12.10"
  }
 },
 "nbformat": 4,
 "nbformat_minor": 5
}
