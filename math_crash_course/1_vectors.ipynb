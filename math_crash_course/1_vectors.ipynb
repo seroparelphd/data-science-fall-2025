{
 "cells": [
  {
   "cell_type": "markdown",
   "metadata": {},
   "source": [
    "# Crash Course Lession 1\n",
    "\n",
    "In this lesson we will learn about:\n",
    "\n",
    "* Vector **addition** and **scaling**. \n",
    "* **Linear combinations** of vectors.\n",
    "* The **span** of a list of vectors.\n",
    "* What it means for a list of vectors to be **linearly dependent/independent**.\n",
    "* The **basis** of a **subspace** of $\\mathbb{R}^n$.\n",
    "* The **dimension** of a subspace of $\\mathbb{R}^n$.\n",
    "* How to translate back and forth between geometric statements about vectors using this vocabulary and statements about systems of linear equations.\n",
    "* How to answer questions about these concepts using SymPy.\n",
    "\n",
    "Note that there are **Exercises** intersperced throughout this notebook.  Please attempt these exercises as you encounter them.  Solutions to the exercises are provided at the end of the notebook."
   ]
  },
  {
   "cell_type": "markdown",
   "metadata": {},
   "source": [
    "We will think of a **vector** as a list of numbers.  We will usually write vectors as vertically oriented matrices.  For example:\n",
    "\n",
    "$$\n",
    "\\vec{v} = \\begin{bmatrix} 1 \\\\ 2 \\\\ 3\\end{bmatrix} \n",
    "$$\n",
    "\n",
    "This is a $3$ dimensional vector because there are three numbers in the list.  If there are $n$ numbers in the list we say that the vector is $n$ dimensional.  The collection of all vectors of dimension $n$ is written $\\mathbb{R}^n$ (read this as \"arr enn\").\n",
    "\n",
    "We can visualize $\\mathbb{R}^1$ as a number line, $\\mathbb{R}^2$ as the $xy$ plane, and $\\mathbb{R}^3$ as a 3D $xyz$-coordinate system. \n",
    "\n",
    "If $n = 1, 2, 3$ we can visualize vectors as arrows pointing from the origin (the 'tail' of the vector) to the point whose coordinates agree with the vector (the 'head' of the vector).  For example:\n",
    "\n",
    "<p align = 'middle'>\n",
    "<img src=\"crash_course_assets/vector-vis.png\" width=\"400\">\n",
    "</p>\n"
   ]
  },
  {
   "cell_type": "markdown",
   "metadata": {},
   "source": [
    "\"To deal with a 14-dimensional space, visualize a 3D space and say 'fourteen' to yourself very loudly. Everyone does it.\" -- Geoff Hinton"
   ]
  },
  {
   "cell_type": "markdown",
   "metadata": {},
   "source": [
    "We scale and add vectors componentwise.  For example:\n",
    "\n",
    "$$\n",
    "3 \\begin{bmatrix} 1 \\\\ 2\\end{bmatrix} = \\begin{bmatrix} 3 \\\\ 6 \\end{bmatrix}\n",
    "$$\n",
    "\n",
    "and\n",
    "\n",
    "$$\n",
    "\\begin{bmatrix} 1 \\\\ 2 \\end{bmatrix} + \\begin{bmatrix} 2 \\\\ 1 \\end{bmatrix} = \\begin{bmatrix} 3 \\\\ 3\\end{bmatrix}\n",
    "$$\n",
    "\n",
    "<p align = 'middle'>\n",
    " <img src=\"crash_course_assets/scale.png\" width=\"400\" />\n",
    " <img src=\"crash_course_assets/sum.png\" width=\"400\" />\n",
    "</p>"
   ]
  },
  {
   "cell_type": "markdown",
   "metadata": {},
   "source": [
    "As we can see, the geometric effect of scaling a vector by $k$ is to \"stretch\" it by a factor of $k$.\n",
    "\n",
    "We can sum two vectors geometrically by using the two vectors as edges of a parallelogram.  The vector sum is then a diagonal of this parallelogram."
   ]
  },
  {
   "cell_type": "markdown",
   "metadata": {},
   "source": [
    "**Exercise 1**:  Let $\\vec{u} \\in \\mathbb{R}^2, \\vec{v} \\in \\mathbb{R}^2, \\vec{w} \\in \\mathbb{R}^3$ and $c_1, c_2 \\in \\mathbb{R}$.\n",
    "\n",
    "Which of the following expressions make sense?\n",
    "\n",
    "* $\\vec{u} + c_1 \\vec{v}$\n",
    "* $\\vec{u} + c_2 \\vec{w}$\n",
    "* $\\vec{w}^2$\n",
    "* $c_1 \\vec{w}$\n",
    "\n",
    "**Exercise 2**:  Let $\\vec{v} = \\begin{bmatrix} 1 \\\\ 3\\end{bmatrix}$ and $\\vec{w} = \\begin{bmatrix} 1 \\\\ -1 \\end{bmatrix}$.  Draw pictures of each of the following:\n",
    "\n",
    "* $-\\vec{v}, \\vec{0}, \\vec{v}, 2\\vec{v}$\n",
    "* $-\\vec{w}, \\vec{0}, \\vec{w}, 2\\vec{w}$\n",
    "* $\\vec{v} + -\\vec{w}, \\vec{v} + \\vec{0}, \\vec{v} + \\vec{w}, \\vec{v} + 2\\vec{w}$\n"
   ]
  },
  {
   "cell_type": "markdown",
   "metadata": {},
   "source": [
    "When we combine scaling and summing we get \"linear combinations\": \n",
    "\n",
    "**Definition**:  If $\\vec{v}_1, \\vec{v}_2, \\vec{v}_3, ... ,\\vec{v}_k$ is a list of $k$ vectors in $\\mathbb{R}^n$, then a **linear combination** of these vectors is a vector of the form\n",
    "\n",
    "$$\n",
    "c_1 \\vec{v_1} + c_2 \\vec{v}_2 + c_3 \\vec{v_3} + \\dots  + c_k \\vec{v_k}\n",
    "$$\n",
    "\n",
    "for some scalars $c_1, c_2, c_3, ..., c_k$\n",
    "\n",
    "**Example**:  $\\begin{bmatrix} 4 \\\\ 5 \\\\ 1 \\end{bmatrix}$ is a linear combination of $\\begin{bmatrix} 1 \\\\ 1 \\\\ 1\\end{bmatrix}$ and $\\begin{bmatrix} 2 \\\\ 3 \\\\ -1\\end{bmatrix}$ since\n",
    "\n",
    "\n",
    "$$\n",
    "\\begin{bmatrix} 4 \\\\ 5 \\\\ 1 \\end{bmatrix} = 2 \\begin{bmatrix} 1 \\\\ 1 \\\\ 1\\end{bmatrix} + \\begin{bmatrix} 2 \\\\ 3 \\\\ -1\\end{bmatrix}\n",
    "$$\n",
    "\n",
    "\n",
    "**Definition**:  The **span** of a list of vectors $\\vec{v}_1, \\vec{v}_2, \\vec{v}_3, ... ,\\vec{v}_k$ is the collection of all linear combinations of those vectors.\n",
    "\n",
    "**Example**:  The span of a single non-zero vector is just the line containing that vector.\n",
    "\n",
    "**Example**:  The span of two vectors which are not on the same line is the plane containing the two vectors.\n",
    "\n",
    "To understand why, let us visualize the span of $\\vec{v}_1 = \\begin{bmatrix} 1 \\\\ 1 \\\\ 1\\end{bmatrix}$ and $\\vec{v}_2 = \\begin{bmatrix} 2 \\\\ 3 \\\\ -1\\end{bmatrix}$.  We can scale $\\vec{v_1}$ to be anywhere on the line through the origin containing $\\vec{v}_1$.  Same for $\\vec{v}_2$.  So we have a pair of two lines passing through the origin.  Summing any of these scaled vectors will give us the diagonal of a parallelogram.  Since parallelograms are flat, we will always get a vector on the plane which contains these two lines.  The span of $\\vec{v}_1$ and $\\vec{v}_2$ is the plane containing these vectors!\n",
    "\n",
    "<p align = 'middle'>\n",
    " <img src=\"crash_course_assets/span.png\" width=\"400\" />\n",
    "</p>\n",
    "\n",
    "The span of a list of vectors is always a \"subspace\":  either a point, a line, a plane, a \"3D subspace\", a \"4D subspace\", etc.\n",
    "\n",
    "**Important Idea**:  Let $\\vec{w}$ and $\\vec{v_1}, \\dots, \\vec{v}_k$ be vectors in $\\mathbb{R}^n$.\n",
    "\n",
    "We will write \n",
    "\n",
    "$$\n",
    "\\vec{w} = \n",
    "\\begin{bmatrix} \n",
    "w_1 \\\\ w_2 \\\\ \\vdots \\\\ w_n\n",
    "\\end{bmatrix}\n",
    "\n",
    "\\hphantom{dsada}\n",
    "\n",
    "\\vec{v}_j = \n",
    "\\begin{bmatrix}\n",
    "v_{1j} \\\\ v_{2j} \\\\ \\vdots \\\\ v_{nj} \n",
    "\\end{bmatrix}\n",
    "$$\n",
    "\n",
    "The following questions are just rephrasings of each other:\n",
    "\n",
    "* Is $\\vec{w}$ a linear combination of $\\vec{v}_1, \\dots , \\vec{v}_k$? \n",
    "* Is $\\vec{w}$ in the span of $\\vec{v}_1, \\dots , \\vec{v}_k$?\n",
    "* Can we solve the following system of linear equations for $c_1, c_2, c_3, ..., c_k$?\n",
    "\n",
    "$$\n",
    "\\begin{cases}\n",
    "    c_1 v_{11} +  c_2 v_{12} + c_3 v_{13} + \\dots + c_k v_{1k}  = w_1 \\\\\n",
    "    c_1 v_{21} +  c_2 v_{22} + c_3 v_{23} + \\dots + c_k v_{2k}  = w_2 \\\\\n",
    "     \\vdots\\\\\n",
    "    c_1 v_{n1} +  c_2 v_{n2} + c_3 v_{n3} + \\dots + c_k v_{nk}  = w_n \\\\\n",
    "\\end{cases}\n",
    "$$\n",
    "\n",
    "**Example**:   $\\vec{w} = \\begin{bmatrix} 4 \\\\ 5 \\\\ 1 \\end{bmatrix}$ is a linear combination of  $\\vec{v}_1 = \\begin{bmatrix} 1 \\\\ 1 \\\\ 1\\end{bmatrix}$ and  $\\vec{v}_2 = \\begin{bmatrix} 2 \\\\ 3 \\\\ -1\\end{bmatrix}$ if we can find $c_1$ and $c_2$ so that \n",
    "\n",
    "$$\n",
    "\\begin{bmatrix} 4 \\\\ 5 \\\\ 1 \\end{bmatrix} = c_1 \\begin{bmatrix} 1 \\\\ 1 \\\\ 1\\end{bmatrix} + c_2 \\begin{bmatrix} 2 \\\\ 3 \\\\ -1\\end{bmatrix}\n",
    "$$\n",
    "\n",
    "Multiplying everything out we are trying to find $c_1$ and $c_2$ so that\n",
    "\n",
    "$$\n",
    "\\begin{bmatrix} 4 \\\\ 5 \\\\ 1 \\end{bmatrix} = \\begin{bmatrix} c_1 + 2c_2 \\\\ c_1 + 3c_2 \\\\ c_1 - c_2\\end{bmatrix}\n",
    "$$\n",
    "\n",
    "which is equivalent to the system of linear equations\n",
    "\n",
    "$$\n",
    "\\begin{cases}\n",
    "c_1 + 2c_2 = 4\\\\\n",
    "c_1 + 3c_2 = 5\\\\\n",
    "c_1 - c_2 = 1\n",
    "\\end{cases}\n",
    "$$\n",
    "\n",
    "Interestingly this gives us two \"dual\" geometric perspectives on the question:\n",
    "\n",
    "1. Does the vector $\\vec{w}$ live in the plane which contains $\\vec{v}_1$ and $\\vec{v}_2$? We have already seen that picture above, and the answer is yes!\n",
    "2. Do the three lines in the **coefficient space** $(c_1,c_2)$ defined  these equations have a common point of intersection?\n",
    "$$\n",
    "\\begin{cases}\n",
    "c_1 + 2c_2 = 4\\\\\n",
    "c_1 + 3c_2 = 5\\\\\n",
    "c_1 - c_2 = 1\n",
    "\\end{cases}\n",
    "$$\n",
    "\n",
    "<p align = 'middle'>\n",
    " <img src=\"dual.png\" width=\"400\" />\n",
    "</p>\n",
    "\n",
    "Viewing everything that we do from these two dual perspectives is at the heart of a lot of linear algebra.\n",
    "\n",
    "In a full linear algebra course, we would spend a lot of time learning to solve these kinds of systems systematically using something called \"row reduction\".  In this crash course we are going to skip the \"how to compute it\" part and let the computer do it for us.\n",
    "\n",
    "We can solve this system using SymPy as follows:"
   ]
  },
  {
   "cell_type": "code",
   "execution_count": 2,
   "metadata": {},
   "outputs": [
    {
     "data": {
      "text/latex": [
       "$\\displaystyle \\left\\{\\left( 2, \\  1\\right)\\right\\}$"
      ],
      "text/plain": [
       "{(2, 1)}"
      ]
     },
     "execution_count": 2,
     "metadata": {},
     "output_type": "execute_result"
    }
   ],
   "source": [
    "from sympy import linsolve, symbols\n",
    "c_1, c_2 = symbols(\"c_1, c_2\")\n",
    "Eqns = [c_1 +2*c_2 - 4, c_1 + 3*c_2 - 5, c_1 - c_2 - 1]\n",
    "linsolve(Eqns, c_1, c_2)"
   ]
  },
  {
   "cell_type": "markdown",
   "metadata": {},
   "source": [
    "So \n",
    "\n",
    "$$\n",
    "\\begin{bmatrix} 4 \\\\ 5 \\\\ 1 \\end{bmatrix} = 2 \\begin{bmatrix} 1 \\\\ 1 \\\\ 1\\end{bmatrix} + 1\\begin{bmatrix} 2 \\\\ 3 \\\\ -1\\end{bmatrix}\n",
    "$$\n",
    "\n",
    "and so $\\begin{bmatrix} 4 \\\\ 5 \\\\ 1 \\end{bmatrix}$ is a linear combination of $\\begin{bmatrix} 1 \\\\ 1 \\\\ 1\\end{bmatrix}$ and $\\begin{bmatrix} 2 \\\\ 3 \\\\ -1\\end{bmatrix}$."
   ]
  },
  {
   "cell_type": "markdown",
   "metadata": {},
   "source": [
    "**Exercise 3**:\n",
    "\n",
    "* Can you think of $3$ vectors in $\\mathbb{R}^3$ whose span is a line?  A 2D plane?  All of $\\mathbb{R}^3$?\n",
    "* Take $3$ vectors in $\\mathbb{R}^3$ at random.  Is it more likely that they would span a line, a 2D plane, or all of $\\mathbb{R}^3$?\n",
    "* Generalize:  what do you think is the most likely span of $k$ vectors in $\\mathbb{R}^n$ if $k \\geq n$?\n",
    "    * Can you translate this observation into a statement about systems of linear equations?\n",
    "* Can $2$ vectors span all of $\\mathbb{R}^3$?  Proving your answer might be tough, but you should have a strong geometric intuition for this.\n",
    "* Generalize: Can $k$ vectors span all of $\\mathbb{R}^n$ when $k<n$?\n",
    "    * Can you translate this observation into a statement about systems of linear equations?"
   ]
  },
  {
   "cell_type": "markdown",
   "metadata": {},
   "source": [
    "**Exercise 4**:\n",
    "\n",
    "$$\n",
    "\\vec{v_1} = \\begin{bmatrix} 1 \\\\ 2 \\\\ 3 \\end{bmatrix}\n",
    "\\hphantom{dsds}\n",
    "\\vec{v_2} = \\begin{bmatrix} -1 \\\\ 0 \\\\ 1 \\end{bmatrix}\n",
    "\\hphantom{dsds}\n",
    "\\vec{v_3} = \\begin{bmatrix} 0 \\\\ 2 \\\\ 4 \\end{bmatrix}\n",
    "\\hphantom{dsds}\n",
    "\\vec{v_4} = \\begin{bmatrix} 1 \\\\ 4 \\\\ 7 \\end{bmatrix}\n",
    "\\hphantom{dsds}\n",
    "\\vec{v_5} = \\begin{bmatrix} 1 \\\\ 0 \\\\ 0 \\end{bmatrix}\n",
    "$$\n",
    "\n",
    "Use SymPy to answer the following questions:\n",
    "\n",
    "* Is $\\vec{v_3}$ a linear combination of $\\vec{v_1}$ and $\\vec{v_2}$?\n",
    "* Is $\\vec{v_4}$ in the span of $\\vec{v_1}, \\vec{v_2}, \\vec{v_3}$?\n",
    "* Is $\\vec{v_5}$ in the span of $\\vec{v_1}$ and $\\vec{v_4}$?"
   ]
  },
  {
   "cell_type": "markdown",
   "metadata": {},
   "source": [
    "You may have noticed that sometimes a list of vectors has some \"redundancy\".  For example, the span of \n",
    "\n",
    "$$\n",
    "\\vec{v}_1 = \\begin{bmatrix} 1 \\\\ 0 \\\\ 0\\end{bmatrix},  \\vec{v}_2 = \\begin{bmatrix} 0 \\\\ 1 \\\\ 0 \\end{bmatrix}, \\vec{v}_3 = \\begin{bmatrix} 1 \\\\ 1 \\\\ 0 \\end{bmatrix}\n",
    "$$\n",
    "\n",
    "is the same as the span of **any** two of these vectors.  Since $\\vec{v_1} + \\vec{v_2} - \\vec{v}_3 = \\vec{0}$ we could solve for any one of these vectors as a linear combination of the other two.\n",
    "\n",
    "Then any linear combination of $\\vec{v}_1, \\vec{v}_2,$ and $\\vec{v_3}$ could be rewritten using just two of them.\n",
    "\n",
    "This leads us to make the following definition:\n",
    "\n",
    "**Definitions:**  A linear combination of a list of vectors is called **non-trivial** if at least one of the coefficients is not $0$.  A list of vectors is called **linearly dependent** if there is a non-trivial linear combination of the vectors which equals the zero vector.  If the only linear combination of the vectors which equals the zero vector is trivial, then the list is called **linearly independent**.\n",
    "\n",
    "If we have a linearly dependent list of vectors and the coefficient of one of the vectors $\\vec{v}_j$ is not zero, then we can express that vector as a linear combination of the remaining vectors.  So the span of the list is unchanged by removing $\\vec{v}_j$.\n",
    "\n",
    "On the other hand, removing any vector from a linearly independent list will change the span.\n",
    "\n",
    "**Exercise 5**:  \n",
    "\n",
    "* Use SymPy to show that this list of vectors is linearly dependent:\n",
    "\n",
    "$$\n",
    "\\begin{bmatrix} 1 \\\\ 2 \\\\ 3 \\\\ 4\\end{bmatrix}, \\begin{bmatrix} 5 \\\\ 0 \\\\ 1 \\\\ 8 \\end{bmatrix}, \\begin{bmatrix}2 \\\\ -1 \\\\ -1 \\\\ 2 \\end{bmatrix} \n",
    "$$\n",
    "\n",
    "* Eliminate any one of the three vectors and use SymPy to show that the remaining list of two vectors is linearly independent.\n",
    "\n",
    "* Describe what we did geometrically using the language of spans and subspaces."
   ]
  },
  {
   "cell_type": "markdown",
   "metadata": {},
   "source": [
    "We mentioned the word \"subspace\" informally, and you should have some intuition for it now.  It is a point, line, plane, 3D space, 4D space, etc living inside of our $\\mathbb{R}^n$.  We have generated these as spans of lists of vectors.  Let's give an actual definition of what a subspace is:\n",
    "\n",
    "**Definition**:  A **subspace** of $\\mathbb{R}^n$ is a set of vectors $S$ which is closed under scaling and vector sums.  In other words, $S$ is a subspace if for all $c \\in \\mathbb{R}$ and  $\\vec{v}$ and $\\vec{w}$ in $S$ we have  \n",
    "\n",
    "* $c\\vec{v}$ is in $S$.\n",
    "* $\\vec{v} + \\vec{w}$ is in $S$.\n",
    "\n",
    "We will not prove the following theorem, but hopefully it is geometrically believable?\n",
    "\n",
    "**Theorem**:  Let $S$ be a subspace of $\\mathbb{R}^n$.  Then we can find a list of linearly independent vectors $\\vec{v_1}, \\vec{v_2}, ..., \\vec{v}_k$ which span $S$.  Such a list is called a **basis** for $S$.  A subspace can have many different bases, but all of them will have the same number of vectors in them.  We call this common number the **dimension** of the subspace.\n",
    "\n",
    "**Example**:  In exercise **5** you were able to show that $2$ linearly independeny vectors spanned a certain subspace of $\\mathbb{R}^4$.  Geometrically this is a 2D plane living in 4D space.  Is it geometrically believable that *any* basis of this plane would have to have $2$ vectors?  $1$ vector wouldn't be enough:  it would just give a line.  A list of $3$ vectors in a plane would have to be linearly dependent.\n",
    "\n",
    "**Idea**:  Say you have a subspace spanned by a list of vectors which is linearly dependent.  To find a basis, just do the following:\n",
    "\n",
    "* Use SymPy to find a linear dependence relation.\n",
    "* By definition, at least of these vectors has a non-zero coefficient in the linear dependence relation.  It is in the span of the remaining vectors, so discard it.\n",
    "* Use SymPy to check for independence of the remaining vectors.  If you find a dependence, repeat the process again.\n",
    "* Eventually you will have a linearly independent list of vectors with the same span as the original list.  This is a basis for your subspace!\n",
    "\n",
    "**Exercise 6**: Find a basis for the subspace of $\\mathbb{R^4}$ spanned by the following $5$ vectors.  What is the dimension of this subspace?\n",
    "\n",
    "$$\n",
    "\\begin{bmatrix} 1 \\\\ 2 \\\\ 3 \\\\ 4 \\end{bmatrix}, \\begin{bmatrix} 1 \\\\ 0 \\\\ -1 \\\\ 0 \\end{bmatrix}, \\begin{bmatrix} 2 \\\\ 2 \\\\ 2 \\\\ 4 \\end{bmatrix}, \\begin{bmatrix} 1 \\\\ 0 \\\\ -1 \\\\ 1 \\end{bmatrix}, \\begin{bmatrix} 0 \\\\ 0 \\\\ 0 \\\\ 1 \\end{bmatrix}\n",
    "$$"
   ]
  },
  {
   "cell_type": "markdown",
   "metadata": {},
   "source": [
    "**Additional practice**:  I can recommend this free open source \"activity book\":  \n",
    "\n",
    "https://teambasedinquirylearning.github.io/linear-algebra/\n",
    "\n",
    "The concepts we covered in this lecture roughly correspond to the standards labeled EV (short for \"Euclidean Vectors\") in that activity book.  Doing some problems from each of the EV standards in the Exercise Bank would probably be a good idea as well to cement these concepts."
   ]
  },
  {
   "cell_type": "markdown",
   "metadata": {},
   "source": [
    "# Solutions to the exercises"
   ]
  },
  {
   "cell_type": "markdown",
   "metadata": {},
   "source": [
    "**Exercise 1**:  Let $\\vec{u} \\in \\mathbb{R}^2, \\vec{v} \\in \\mathbb{R}^2, \\vec{w} \\in \\mathbb{R}^3$ and $c_1, c_2 \\in \\mathbb{R}$.\n",
    "\n",
    "Which of the following expressions make sense?\n",
    "\n",
    "* $\\vec{u} + c_1 \\vec{v}$\n",
    "    * This makes sense.  $c_1 \\vec{v}$ and $\\vec{u}$ are both in $\\mathbb{R}^2$, so you can add them.\n",
    "* $\\vec{u} + c_2 \\vec{w}$\n",
    "    * This doesn't make sense.  $c_1 \\vec{v}$ is in $\\mathbb{R}^3$ and $\\vec{u}$ is in $\\mathbb{R}^2$.  There is a dimension mismatch.\n",
    "* $\\vec{w}^2$\n",
    "    * We only know how to scale and add vectors. Multiplying a vector by itself is mathematically undefined. Note that NumPy will happily compute this by just squaring each of the components.  This is one way to give meaning to the expression, and it is the convention that NumPy has adopted (it is useful!), but in pure math this expression does not have any conventional meaning.  If you wanted to write it in a paper you would need to mention something like \"where by $\\vec{w}^2$ I mean that I am applying the squaring operation to each component\".\n",
    "* $c_1 \\vec{w}$\n",
    "    * This is fine!  I can scale vectors in $\\mathbb{R}^3$."
   ]
  },
  {
   "cell_type": "markdown",
   "metadata": {},
   "source": [
    "**Exercise 2**:  Let $\\vec{v} = \\begin{bmatrix} 1 \\\\ 3\\end{bmatrix}$ and $\\vec{w} = \\begin{bmatrix} 1 \\\\ -1 \\end{bmatrix}$.  Draw pictures of each of the following:\n",
    "\n",
    "* $-\\vec{v}, \\vec{0}, \\vec{v}, 2\\vec{v}$\n",
    "* $-\\vec{w}, \\vec{0}, \\vec{w}, 2\\vec{w}$\n",
    "* $\\vec{v} + -\\vec{w}, \\vec{v} + \\vec{0}, \\vec{v} + \\vec{w}, \\vec{v} + 2\\vec{w}$\n",
    "\n",
    "<p align = 'middle'>\n",
    "<img src=\"crash_course_assets/exercise2.png\" width=\"400\">\n",
    "</p>\n"
   ]
  },
  {
   "cell_type": "markdown",
   "metadata": {},
   "source": [
    "**Exercise 3**:\n",
    "\n",
    "> Can you think of $3$ vectors in $\\mathbb{R}^3$ whose span is a line?  A 2D plane?  All of $\\mathbb{R}^3$?\n",
    "* The vectors $\\begin{bmatrix}1 \\\\ 1 \\\\ 1 \\end{bmatrix}$, $\\begin{bmatrix}2 \\\\ 2 \\\\ 2 \\end{bmatrix}$  and $\\begin{bmatrix}3 \\\\ 3 \\\\ 3 \\end{bmatrix}$  span a line.\n",
    "* The vectors $\\begin{bmatrix}1 \\\\ 0 \\\\ 0 \\end{bmatrix}$, $\\begin{bmatrix}0 \\\\ 1 \\\\ 0 \\end{bmatrix}$ and $\\begin{bmatrix}1 \\\\ 1 \\\\ 0 \\end{bmatrix}$ span a plane.\n",
    "* The vectors $\\begin{bmatrix}1 \\\\ 0 \\\\ 0 \\end{bmatrix}$, $\\begin{bmatrix}0 \\\\ 1 \\\\ 0 \\end{bmatrix}$, and $\\begin{bmatrix}0 \\\\ 0 \\\\ 1 \\end{bmatrix}$ span all of $\\mathbb{R}^3$\n",
    "\n",
    "> Take $3$ vectors in $\\mathbb{R}^3$ at random.  Is it more likely that they would span a line, a 2D plane, or all of $\\mathbb{R}^3$?\n",
    "\n",
    "Think about this geometrically.  If you choose a 1st random vector you probably didn't randomly select the origin.  So it's span is probably a line.  Now if you pick a second random vector there is essentially no chance that it happened to fall on this line.  So the two vectors most likely span a plane.  My third random vector almost certainly didn't just happen to fall on this plane.  So the span of the 3 random vectors is almost certainly all of $\\mathbb{R}^3$.\n",
    "\n",
    "We can also think of this from the dual perspective in coefficient space.\n",
    "\n",
    "Each of our $3$ equations in $3$ unknowns gives us a plane in $(c_1,c_2,c_3)$ space.  The intersection of the first two planes is probably a line (except in the unlikely case that the planes happen to be parallel).  The intersection of that line with the next plane is probably a point (unless we are in the unlikely case that the line is parallel to the plane).  So we will most likely get a unique solution to the system of equations.  So we reach the same conclusion:  3 random vectors almost certainly span all of $\\mathbb{R}^3$.\n",
    "\n",
    "> Generalize:  what do you think is the most likely span of $k$ vectors in $\\mathbb{R}^n$ if $k \\geq n$?\n",
    "\n",
    "If we are in $\\mathbb{R}^n$ and choose $n$ or more vectors at random, the first $n$ of them almost certainly span all of $\\mathbb{R}^n$.  So we anticipate the span being all of $\\mathbb{R}^n$ except in the very rare coincidental case that they all happen to lie in some lower dimensional subspace.\n",
    "\n",
    "> Can you translate this observation into a statement about systems of linear equations?\n",
    "\n",
    "Remember that we can translate the statement that the $\\vec{w} \\in \\mathbb{R}^n$ is in the span of a list of vectors $\\vec{v}_1, \\vec{v}_2, \\dots \\vec{v}_k \\in \\mathbb{R}^n$ into the statement that a corresponding system of $n$ linear equations in $k$ unknowns is solvable.  So our claim that \"if we have a list of $k$ vectors where $k \\geq n$, then the span is probably all of $\\mathbb{R}^n$\" can be translated into the statement that \"if we have more unknowns than equations in a linear system, we can probably solve the system\".  Isn't it neat that we can use our geometric intuition to understand things about algebra like this?\n",
    "\n",
    "We can also think about this from the \"dual perspective\" of geometry in coefficient space.  Our $n$ equations with $k$ unknowns will give us $n$ hyperplanes, each of dimension $k-1$, in the coefficient space $\\mathbb{R}^k$.  We would expect that \"generically\" the intersection of the first two hyperplanes would be dimension $k-2$, then intersecting the next would give us something of dimension $k-3$, etc.  So we would expect that after $n$ of them we would have $k-n$ dimensional solution.  An example of something that could go wrong is if one of your hyperplanes was parallel to the previous ones, but this is unlikely to happen in a \"random\" configuration.\n",
    "\n",
    "> Can $2$ vectors span all of $\\mathbb{R}^3$?  Proving your answer might be tough, but you should have a strong geometric intuition for this.\n",
    "\n",
    "$2$ vectors should not be able to span all of $\\mathbb{R}^3$.  They could at most span a 2D plane!\n",
    "\n",
    "From the dual perspective, $3$ random lines in $(c_1,c_2)$ space will almost certainly **not** have a common point of intersection.\n",
    "\n",
    "> Generalize: Can $k$ vectors span all of $\\mathbb{R}^n$ when $k<n$?\n",
    "\n",
    "Nope:  same reason.  They can at most span a $k$-dimensional subspace.  \n",
    "\n",
    "From the dual perspective, we are intersecting more than $k$ $k-1$-dimensional hyperplanes in coefficient space ($\\mathbb{R}^k$).  We would generically expect $k$ of them to have a common point of intersection, so intersecting more than $k$ probably has no common point of intersection.\n",
    "\n",
    "> Can you translate this observation into a statement about systems of linear equations?\n",
    "\n",
    "This can be translated into the statement \"If you have more equations than unknowns in a linear system, you probably cannot find a solution to the system (a.k.a. the system is probably **inconsistent**)\"."
   ]
  },
  {
   "cell_type": "markdown",
   "metadata": {},
   "source": [
    "**Exercise 4**:\n",
    "\n",
    "$$\n",
    "\\vec{v_1} = \\begin{bmatrix} 1 \\\\ 2 \\\\ 3 \\end{bmatrix}\n",
    "\\hphantom{dsds}\n",
    "\\vec{v_2} = \\begin{bmatrix} -1 \\\\ 0 \\\\ 1 \\end{bmatrix}\n",
    "\\hphantom{dsds}\n",
    "\\vec{v_3} = \\begin{bmatrix} 0 \\\\ 2 \\\\ 4 \\end{bmatrix}\n",
    "\\hphantom{dsds}\n",
    "\\vec{v_4} = \\begin{bmatrix} 1 \\\\ 4 \\\\ 7 \\end{bmatrix}\n",
    "\\hphantom{dsds}\n",
    "\\vec{v_5} = \\begin{bmatrix} 1 \\\\ 0 \\\\ 0 \\end{bmatrix}\n",
    "$$\n",
    "\n",
    "Use SymPy to answer the following questions:\n",
    "\n",
    "* Is $\\vec{v_3}$ a linear combination of $\\vec{v_1}$ and $\\vec{v_2}$?\n",
    "* Is $\\vec{v_4}$ in the span of $\\vec{v_1}, \\vec{v_2}, \\vec{v_3}$?\n",
    "* Is $\\vec{v_5}$ in the span of $\\vec{v_1}$ and $\\vec{v_4}$?"
   ]
  },
  {
   "cell_type": "markdown",
   "metadata": {},
   "source": [
    "> Is $\\vec{v_3}$ a linear combination of $\\vec{v_1}$ and $\\vec{v_2}$?\n",
    "\n",
    "We want to know if we can find $c_1$ and $c_2$ so that\n",
    "\n",
    "$$\n",
    "\\begin{bmatrix} 0 \\\\ 2 \\\\ 4 \\end{bmatrix} = c_1\\begin{bmatrix} 1 \\\\ 2 \\\\ 3 \\end{bmatrix} + c_2\\begin{bmatrix} -1 \\\\ 0 \\\\ 1 \\end{bmatrix}\n",
    "$$\n",
    "\n",
    "Maybe you can just \"see\" that $c_1 = c_2 = 1$ would do the trick.  If not, we could use SymPy so solve as follows:"
   ]
  },
  {
   "cell_type": "code",
   "execution_count": 3,
   "metadata": {},
   "outputs": [
    {
     "data": {
      "text/latex": [
       "$\\displaystyle \\left\\{\\left( 1, \\  1\\right)\\right\\}$"
      ],
      "text/plain": [
       "{(1, 1)}"
      ]
     },
     "execution_count": 3,
     "metadata": {},
     "output_type": "execute_result"
    }
   ],
   "source": [
    "c_1, c_2 = symbols(\"c_1, c_2\")\n",
    "Eqns = [c_1  - c_2 -0, 2*c_1+0*c_2 - 2, 3*c_1 + 1*c_2 - 4]\n",
    "linsolve(Eqns, c_1, c_2)"
   ]
  },
  {
   "cell_type": "markdown",
   "metadata": {},
   "source": [
    "> Is $\\vec{v_4}$ in the span of $\\vec{v_1}, \\vec{v_2}, \\vec{v_3}$?\n",
    "\n",
    "We want to know if we can find $c_1$, $c_2$, and $c_3$ so that\n",
    "\n",
    "$$\n",
    "\\begin{bmatrix} 1 \\\\ 4 \\\\ 7 \\end{bmatrix} = c_1\\begin{bmatrix} 1 \\\\ 2 \\\\ 3 \\end{bmatrix} + c_2\\begin{bmatrix} -1 \\\\ 0 \\\\ 1 \\end{bmatrix} + c_3 \\begin{bmatrix} 0 \\\\ 2 \\\\ 4 \\end{bmatrix}\n",
    "$$\n",
    "\n",
    "Actually, since we already showed above that $\\vec{v_3}$ is in the span of $\\vec{v_1}$ and $\\vec{v_2}$, I know that the span of $\\vec{v_1}, \\vec{v_2}, \\vec{v_3}$ is the span of $\\vec{v_1}, \\vec{v_2}$.  It would save me some typing work to just check if $\\vec{v_4}$  is in the span of $\\vec{v_1}, \\vec{v_2}$.  I will not use this observtion in my code through:"
   ]
  },
  {
   "cell_type": "code",
   "execution_count": 4,
   "metadata": {},
   "outputs": [
    {
     "data": {
      "text/latex": [
       "$\\displaystyle \\left\\{\\left( 2 - c_{3}, \\  1 - c_{3}, \\  c_{3}\\right)\\right\\}$"
      ],
      "text/plain": [
       "{(2 - c_3, 1 - c_3, c_3)}"
      ]
     },
     "execution_count": 4,
     "metadata": {},
     "output_type": "execute_result"
    }
   ],
   "source": [
    "c_1, c_2, c_3 = symbols(\"c_1, c_2, c_3\")\n",
    "Eqns = [c_1  - c_2 + 0*c_3 - 1, 2*c_1+0*c_2 +2*c_3 - 4, 3*c_1 + 1*c_2 + 4*c_3 - 7]\n",
    "linsolve(Eqns, c_1, c_2, c_3)"
   ]
  },
  {
   "cell_type": "markdown",
   "metadata": {},
   "source": [
    "This shows that we can let $c_3$ be whatever we want (it is a **free variable**) and find a solution to the equation.  There are infinitely many solutions!  So $\\vec{v_4}$ is in the span.  All $4$ of $\\vec{v_1}, \\vec{v_2}, \\vec{v_3}$, and $\\vec{v_4}$ lie on the same plane."
   ]
  },
  {
   "cell_type": "markdown",
   "metadata": {},
   "source": [
    "> Is $\\vec{v_5}$ in the span of $\\vec{v_1}$ and $\\vec{v_4}$\n",
    "\n",
    "We want to know if we can find $c_1$ and $c_4$ so that\n",
    "\n",
    "$$\n",
    "\\begin{bmatrix} 1 \\\\ 0 \\\\ 0 \\end{bmatrix} = c_1\\begin{bmatrix} 1 \\\\ 2 \\\\ 3 \\end{bmatrix} + c_4\\begin{bmatrix} 1 \\\\ 4 \\\\ 7 \\end{bmatrix}\n",
    "$$\n",
    "\n"
   ]
  },
  {
   "cell_type": "code",
   "execution_count": 5,
   "metadata": {},
   "outputs": [
    {
     "data": {
      "text/latex": [
       "$\\displaystyle \\emptyset$"
      ],
      "text/plain": [
       "EmptySet"
      ]
     },
     "execution_count": 5,
     "metadata": {},
     "output_type": "execute_result"
    }
   ],
   "source": [
    "c_1, c_4 = symbols(\"c_1, c_4\")\n",
    "Eqns = [c_1  + c_4 - 1, 2*c_1 + 4*c_4 - 0 , 3*c_1 + 7*c_4 - 0]\n",
    "linsolve(Eqns, c_1, c_4)"
   ]
  },
  {
   "cell_type": "markdown",
   "metadata": {},
   "source": [
    "This shows that the equation has no solutions, so $\\vec{v_5}$ is not in the span of $\\vec{v_1}$ and $\\vec{v_4}$."
   ]
  },
  {
   "cell_type": "markdown",
   "metadata": {},
   "source": [
    "**Exercise 5**:  \n",
    "\n",
    "> Use SymPy to show that this list of vectors is linearly dependent:\n",
    ">\n",
    ">$$\n",
    "\\begin{bmatrix} 1 \\\\ 2 \\\\ 3 \\\\ 4\\end{bmatrix}, \\begin{bmatrix} 5 \\\\ 0 \\\\ 1 \\\\ 8 \\end{bmatrix}, \\begin{bmatrix}2 \\\\ -1 \\\\ -1 \\\\ 2 \\end{bmatrix} \n",
    "$$\n",
    "\n",
    "We want to see if \n",
    "\n",
    "$$\n",
    "c_1\\begin{bmatrix} 1 \\\\ 2 \\\\ 3 \\\\ 4\\end{bmatrix} + c_2\\begin{bmatrix} 5 \\\\ 0 \\\\ 1 \\\\ 8 \\end{bmatrix} + c_3 \\begin{bmatrix}2 \\\\ -1 \\\\ -1 \\\\ 2 \\end{bmatrix} = \\begin{bmatrix} 0 \\\\ 0 \\\\ 0 \\\\ 0 \\end{bmatrix}\n",
    "$$\n",
    "\n",
    "has any non-trivial solutions (note that $c_1 = c_2 = c_3 = 0$ works but is \"trivial\")."
   ]
  },
  {
   "cell_type": "code",
   "execution_count": 6,
   "metadata": {},
   "outputs": [
    {
     "data": {
      "text/latex": [
       "$\\displaystyle \\left\\{\\left( \\frac{c_{3}}{2}, \\  - \\frac{c_{3}}{2}, \\  c_{3}\\right)\\right\\}$"
      ],
      "text/plain": [
       "{(c_3/2, -c_3/2, c_3)}"
      ]
     },
     "execution_count": 6,
     "metadata": {},
     "output_type": "execute_result"
    }
   ],
   "source": [
    "c_1, c_2, c_3 = symbols(\"c_1, c_2, c_3\")\n",
    "Eqns = [c_1  + 5*c_2 + 2*c_3, 2*c_1+0*c_2 -c_3, 3*c_1 + 1*c_2 - c_3, 4*c_1 + 8*c_2 + 2*c_3]\n",
    "linsolve(Eqns, c_1, c_2, c_3)"
   ]
  },
  {
   "cell_type": "markdown",
   "metadata": {},
   "source": [
    "There are lots of solutions!  For example, taking $c_3 = 2$ gives us $c_1 = 1, c_2 = -1, c_3 = 2$ as a solution.  So this collection of vectors is linearly dependent.\n",
    "\n",
    "> Eliminate any one of the three vectors and use SymPy to show that the remaining list of two vectors is linearly independent.\n",
    "\n",
    "Let's eliminate the third vector from our list and test for independence:"
   ]
  },
  {
   "cell_type": "code",
   "execution_count": 7,
   "metadata": {},
   "outputs": [
    {
     "data": {
      "text/latex": [
       "$\\displaystyle \\left\\{\\left( 0, \\  0\\right)\\right\\}$"
      ],
      "text/plain": [
       "{(0, 0)}"
      ]
     },
     "execution_count": 7,
     "metadata": {},
     "output_type": "execute_result"
    }
   ],
   "source": [
    "c_1, c_2 = symbols(\"c_1, c_2\")\n",
    "Eqns = [c_1  + 5*c_2, 2*c_1+0*c_2, 3*c_1 + 1*c_2, 4*c_1 + 8*c_2]\n",
    "linsolve(Eqns, c_1, c_2)"
   ]
  },
  {
   "cell_type": "markdown",
   "metadata": {},
   "source": [
    "We only have the trivial solution now, so the list containing the first two vectors is linearly independent.\n",
    "\n",
    "> Describe what we did geometrically using the language of spans and subspaces.\n",
    "\n",
    "We started with $3$ vectors in $R^4$ which spanned a 2D plane/subspace.  Eliminating one of these vectors gave us a basis for the subspace."
   ]
  },
  {
   "cell_type": "markdown",
   "metadata": {},
   "source": [
    "**Exercise 6**: \n",
    "\n",
    ">Find a basis for the subspace of $\\mathbb{R^4}$ spanned by the following $5$ vectors.  What is the dimension of this subspace?\n",
    ">\n",
    ">$$\n",
    "\\begin{bmatrix} 1 \\\\ 2 \\\\ 3 \\\\ 4 \\end{bmatrix}, \\begin{bmatrix} 1 \\\\ 0 \\\\ -1 \\\\ 0 \\end{bmatrix}, \\begin{bmatrix} 2 \\\\ 2 \\\\ 2 \\\\ 4 \\end{bmatrix}, \\begin{bmatrix} 1 \\\\ 0 \\\\ -1 \\\\ 1 \\end{bmatrix}, \\begin{bmatrix} 0 \\\\ 0 \\\\ 0 \\\\ 1 \\end{bmatrix}\n",
    "$$\n",
    "\n",
    "To check for linear dependence we need to solve\n",
    "\n",
    "$$\n",
    "c_1\\begin{bmatrix} 1 \\\\ 2 \\\\ 3 \\\\ 4 \\end{bmatrix}+ c_2\\begin{bmatrix} 1 \\\\ 0 \\\\ -1 \\\\ 0 \\end{bmatrix}+ c_3\\begin{bmatrix} 2 \\\\ 2 \\\\ 2 \\\\ 4 \\end{bmatrix} +c_4 \\begin{bmatrix} 1 \\\\ 0 \\\\ -1 \\\\ 1 \\end{bmatrix} +c_5 \\begin{bmatrix} 0 \\\\ 0 \\\\ 0 \\\\ 1 \\end{bmatrix} = \\begin{bmatrix} 0 \\\\ 0 \\\\ 0 \\\\ 0 \\end{bmatrix}\n",
    "$$"
   ]
  },
  {
   "cell_type": "code",
   "execution_count": 8,
   "metadata": {},
   "outputs": [
    {
     "data": {
      "text/latex": [
       "$\\displaystyle \\left\\{\\left( - c_{3}, \\  - c_{3} + c_{5}, \\  c_{3}, \\  - c_{5}, \\  c_{5}\\right)\\right\\}$"
      ],
      "text/plain": [
       "{(-c_3, -c_3 + c_5, c_3, -c_5, c_5)}"
      ]
     },
     "execution_count": 8,
     "metadata": {},
     "output_type": "execute_result"
    }
   ],
   "source": [
    "c_1, c_2, c_3, c_4, c_5 = symbols(\"c_1, c_2, c_3, c_4, c_5\")\n",
    "Eqns = [c_1  + c_2 + 2*c_3 + c_4, 2*c_1 + 2*c_3, 3*c_1 - c_2 + 2*c_3 -c_4, 4*c_1 + 4*c_3 + c_4 + c_5]\n",
    "linsolve(Eqns, c_1, c_2,c_3, c_4, c_5)"
   ]
  },
  {
   "cell_type": "markdown",
   "metadata": {},
   "source": [
    "This equation has lots of non-zero solutions.  We can set $c_3$ and $c_5$ to be anything we like and get a solution.\n",
    "\n",
    "Eliminating the 5th vector will not change the span, since we could set $c_5 = -1$ in the linear dependence we found and solve for $\\vec{v}_5$ to show that $\\vec{v}_5$ is in the span of the remaining vectors.\n",
    "\n",
    "Now the solution of the dependence equation with the remaining $4$ vectors is the same as solving the above equation with $c_5 = 0$.  We can see that this has a non-trivial solution with $c_3 = -1$.  So the same reasoning shows we can eliminate $\\vec{v}_3$ without changing the span.\n",
    "\n",
    "The dependence equation will now only have a trivial solution since it is the same as solving the original equation with $c_3 = 0, c_5 = 0$, which by the general form SymPy found is only the trivial solution.  We can double check to be sure:"
   ]
  },
  {
   "cell_type": "code",
   "execution_count": 9,
   "metadata": {},
   "outputs": [
    {
     "data": {
      "text/latex": [
       "$\\displaystyle \\left\\{\\left( 0, \\  0, \\  0\\right)\\right\\}$"
      ],
      "text/plain": [
       "{(0, 0, 0)}"
      ]
     },
     "execution_count": 9,
     "metadata": {},
     "output_type": "execute_result"
    }
   ],
   "source": [
    "c_1, c_2, c_4, = symbols(\"c_1, c_2, c_4,\")\n",
    "Eqns = [c_1  + c_2 + c_4, 2*c_1, 3*c_1 - c_2 -c_4, 4*c_1 + c_4]\n",
    "linsolve(Eqns, c_1, c_2, c_4)"
   ]
  },
  {
   "cell_type": "markdown",
   "metadata": {},
   "source": [
    "So $\\vec{v_1}, \\vec{v_2}, \\vec{v_4}$ has the same span as the original list, but is linearly independent.  So it is a basis for this subspace."
   ]
  }
 ],
 "metadata": {
  "kernelspec": {
   "display_name": "base",
   "language": "python",
   "name": "python3"
  },
  "language_info": {
   "codemirror_mode": {
    "name": "ipython",
    "version": 3
   },
   "file_extension": ".py",
   "mimetype": "text/x-python",
   "name": "python",
   "nbconvert_exporter": "python",
   "pygments_lexer": "ipython3",
   "version": "3.11.7"
  },
  "orig_nbformat": 4
 },
 "nbformat": 4,
 "nbformat_minor": 2
}
