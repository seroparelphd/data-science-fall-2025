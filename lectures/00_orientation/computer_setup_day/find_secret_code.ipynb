{
 "cells": [
  {
   "cell_type": "markdown",
   "metadata": {},
   "source": [
    "Execute the following Python cell.\n",
    "\n",
    "Enter this number into the \"secret code\" field on the [ds-boot-camp-prep](https://www.erdosinstitute.org/ds-boot-camp-prep) website.\n",
    "\n",
    "Note:  Don't share this code with anyone!"
   ]
  },
  {
   "cell_type": "code",
   "execution_count": null,
   "metadata": {},
   "outputs": [],
   "source": [
    "import numpy as np\n",
    "from sklearn.linear_model import LinearRegression\n",
    "\n",
    "X = np.loadtxt(\"X.txt\", delimiter=\",\")\n",
    "lr = LinearRegression()\n",
    "lr.fit(X[:, :2], X[:, 2])\n",
    "print(round(lr.coef_.round(2)[0] * lr.coef_.round(2)[1] * 6322))"
   ]
  },
  {
   "cell_type": "markdown",
   "metadata": {},
   "source": [
    "To verify that your `erdos_summer_2025` conda environment is set up correctly, run the cell below. It should return the same code as the one you obtained above.\n",
    "\n",
    "Using the conda environment isn’t strictly required for participating in the boot camp, but it’s recommended. In a real data science job, you'll be expected to work within whatever package management system the team uses. That might be `conda`, `venv`, `uv`, or something else. The boot camp is a good time to get comfortable with at least one of these tools.\n",
    "\n",
    "If you skip the conda environment and install packages into your base environment, you may run into version mismatches or breaking changes. In that case, some of the code might not work, and you'll be on your own to debug and resolve those issues."
   ]
  },
  {
   "cell_type": "code",
   "execution_count": null,
   "metadata": {},
   "outputs": [],
   "source": [
    "from pressure_testing import secret_code\n",
    "\n",
    "secret_code()"
   ]
  }
 ],
 "metadata": {
  "kernelspec": {
   "display_name": "erdos_summer_2025",
   "language": "python",
   "name": "python3"
  },
  "language_info": {
   "codemirror_mode": {
    "name": "ipython",
    "version": 3
   },
   "file_extension": ".py",
   "mimetype": "text/x-python",
   "name": "python",
   "nbconvert_exporter": "python",
   "pygments_lexer": "ipython3",
   "version": "3.12.10"
  }
 },
 "nbformat": 4,
 "nbformat_minor": 2
}
