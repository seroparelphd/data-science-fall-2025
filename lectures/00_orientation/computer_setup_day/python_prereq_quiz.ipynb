{
 "cells": [
  {
   "cell_type": "markdown",
   "metadata": {},
   "source": [
    "#### Basic Python"
   ]
  },
  {
   "cell_type": "code",
   "execution_count": null,
   "metadata": {},
   "outputs": [],
   "source": [
    "import math\n",
    "from typing import Callable, Iterable, Dict"
   ]
  },
  {
   "cell_type": "code",
   "execution_count": null,
   "metadata": {},
   "outputs": [],
   "source": [
    "def counter(ls: Iterable[str]) -> Dict[str, int]:\n",
    "    '''\n",
    "    Counts how many times each element appears in the list of strings.\n",
    "\n",
    "    Args: \n",
    "        ls: a list of strings\n",
    "\n",
    "    Returns:\n",
    "        A dictionary whose keys are unique elements of ls and whose values count the number of occurrences.\n",
    "    '''\n",
    "    # TODO: Implement function\n",
    "\n",
    "assert(counter(['a','b','a','ab']) == {'a':2, 'b':1, 'ab':1})\n",
    "assert(counter([]) == {})"
   ]
  },
  {
   "cell_type": "code",
   "execution_count": null,
   "metadata": {},
   "outputs": [],
   "source": [
    "def last_two_chars(s:str) -> str:\n",
    "    '''\n",
    "    Takes a string as input and returns the last two characters as output.\n",
    "    If the input has less than two characters it should return the string.\n",
    "    '''\n",
    "    # TODO: Implement function\n",
    "\n",
    "assert(last_two_chars('hello') == 'lo')\n",
    "assert(last_two_chars('r') == 'r')\n",
    "assert(last_two_chars('') == '')"
   ]
  },
  {
   "cell_type": "code",
   "execution_count": null,
   "metadata": {},
   "outputs": [],
   "source": [
    "def get_words_with_substring(sentence: str, substring: str) -> Iterable[str]:\n",
    "    '''\n",
    "    Finds all words in a sentence with a given substring\n",
    "\n",
    "    Args:\n",
    "        sentence: A string. \"Words\" are considered to be any block of characters separated by spaces.\n",
    "        substring: A string.\n",
    "\n",
    "    Returns:\n",
    "        A list of the words which contain the substring.\n",
    "    '''\n",
    "    # TODO: Implement function. Try to do this with a single list comprehension.\n",
    "\n",
    "\n",
    "assert(get_words_with_substring('Hello how are you doing today?', 'a') == ['are', 'today?'])\n",
    "assert(get_words_with_substring(\"a ab abc abcd dabc rabcf\", 'abc') == ['abc', 'abcd', 'dabc', 'rabcf'])"
   ]
  },
  {
   "cell_type": "code",
   "execution_count": null,
   "metadata": {},
   "outputs": [],
   "source": [
    "def is_close(x: float, y: float) -> bool:\n",
    "    \"is_close(x) should return True if |x - y| < 0.01\"\n",
    "    # TODO: Implement function\n",
    "    \n",
    "assert(is_close(7, 7.001))\n",
    "assert(is_close(7, 6.995))\n",
    "assert(not(is_close(7,8)))"
   ]
  },
  {
   "cell_type": "markdown",
   "metadata": {},
   "source": [
    "#### Python libraries"
   ]
  },
  {
   "cell_type": "code",
   "execution_count": null,
   "metadata": {},
   "outputs": [],
   "source": [
    "# import numpy as np, pandas as pd, matplotlib as mpl, and matplotlib.pyplot as plt.  Check the versions.\n",
    "\n"
   ]
  },
  {
   "cell_type": "code",
   "execution_count": null,
   "metadata": {},
   "outputs": [],
   "source": [
    "# Use np.random.uniform to make an array X of 20 observations drawn uniformly at random from the interval [0,10].\n",
    "# Use np.random.randn to make an array eps of 20 observations drawn from the standard normal distribution.\n",
    "# Define y = 3*X + eps.\n",
    "# Graph a scatter plot of y against X using plt.\n",
    "\n"
   ]
  },
  {
   "cell_type": "code",
   "execution_count": null,
   "metadata": {},
   "outputs": [],
   "source": [
    "# use pd.read_csv with header = None to read \"X.txt\" into a DataFrame called df.\n",
    "\n"
   ]
  },
  {
   "cell_type": "code",
   "execution_count": null,
   "metadata": {},
   "outputs": [],
   "source": [
    "# Rename the columns of df x0, x1, and y\n"
   ]
  },
  {
   "cell_type": "code",
   "execution_count": null,
   "metadata": {},
   "outputs": [],
   "source": [
    "# Make a scatter plot of y against x1\n"
   ]
  },
  {
   "cell_type": "code",
   "execution_count": null,
   "metadata": {},
   "outputs": [],
   "source": [
    "# Make a new column called 'preds' whose values are 2*x0 + 3*x1.  \n"
   ]
  },
  {
   "cell_type": "code",
   "execution_count": null,
   "metadata": {},
   "outputs": [],
   "source": [
    "# Compute the standard deviation of the difference between y and preds.\n"
   ]
  },
  {
   "cell_type": "code",
   "execution_count": 1,
   "metadata": {},
   "outputs": [],
   "source": [
    "# Make a new DataFrame called ds which has only the rows of df where x0 and x1 are both positive."
   ]
  }
 ],
 "metadata": {
  "kernelspec": {
   "display_name": "ds-boot-camp-prep",
   "language": "python",
   "name": "python3"
  },
  "language_info": {
   "codemirror_mode": {
    "name": "ipython",
    "version": 3
   },
   "file_extension": ".py",
   "mimetype": "text/x-python",
   "name": "python",
   "nbconvert_exporter": "python",
   "pygments_lexer": "ipython3",
   "version": "3.12.4"
  }
 },
 "nbformat": 4,
 "nbformat_minor": 2
}
