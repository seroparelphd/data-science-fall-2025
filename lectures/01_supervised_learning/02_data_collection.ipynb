{
 "cells": [
  {
   "cell_type": "markdown",
   "id": "0",
   "metadata": {},
   "source": [
    "# Data Collection and Cleaning\n",
    "\n",
    "The first step of any data science project is data collection and cleaning.\n",
    "\n",
    "The contents of the `data_collection` folder give short introductions to a few data collection techniques:\n",
    "\n",
    "* `2_Data_Source_Websites` gives shows you websites which host datasets which you could potentially use for a project.\n",
    "* `3_Web_Scraping_with_Beautiful_Soup` shows you how to use the Beautiful Soup library to parse HTML, which can allow you to collect your own data from websites.\n",
    "* `4_Python_and_APIs` explains the idea of an \"application program interface\".  Often companies *want* you to use their data and provide an API which allows you to access that data.\n",
    "* `5_Data_in_Databases` shows you how to use SQLAlchemy to interact with SQL databases using Python.\n",
    "\n",
    "Since not all of these techniques will be relevant to all portfolio projects we are making this content asynchronous.  Filter by the topic \"Data Collection\" on the course homepage to view pre-recorded videos associated with these notebooks."
   ]
  }
 ],
 "metadata": {
  "kernelspec": {
   "display_name": "Python 3 (ipykernel)",
   "language": "python",
   "name": "python3"
  },
  "language_info": {
   "codemirror_mode": {
    "name": "ipython",
    "version": 3
   },
   "file_extension": ".py",
   "mimetype": "text/x-python",
   "name": "python",
   "nbconvert_exporter": "python",
   "pygments_lexer": "ipython3",
   "version": "3.11.7"
  }
 },
 "nbformat": 4,
 "nbformat_minor": 5
}
